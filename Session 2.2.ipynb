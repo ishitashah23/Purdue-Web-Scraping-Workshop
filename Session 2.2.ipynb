{
 "cells": [
  {
   "cell_type": "markdown",
   "id": "varied-batch",
   "metadata": {},
   "source": [
    "### BeautifulSoup\n",
    "The library that we will be using to easly parse html is called BeautifulSoup.<br>\n",
    "For the documentation on BeautifulSoup go here: https://beautiful-soup-4.readthedocs.io/en/latest/ <br>\n",
    "The website we will be using for this part is https://quotes.toscrape.com/"
   ]
  },
  {
   "cell_type": "code",
   "execution_count": null,
   "id": "varying-portal",
   "metadata": {},
   "outputs": [],
   "source": [
    "pip install beautifulsoup4"
   ]
  },
  {
   "cell_type": "code",
   "execution_count": null,
   "id": "floppy-revelation",
   "metadata": {},
   "outputs": [],
   "source": [
    "from bs4 import BeautifulSoup as bs\n",
    "import urllib.request"
   ]
  },
  {
   "cell_type": "code",
   "execution_count": null,
   "id": "attached-somalia",
   "metadata": {},
   "outputs": [],
   "source": [
    "html = urllib.request.urlopen(\"https://quotes.toscrape.com/\").read().decode('utf-8')"
   ]
  },
  {
   "cell_type": "code",
   "execution_count": null,
   "id": "promotional-british",
   "metadata": {},
   "outputs": [],
   "source": [
    "#BeautifulSoup takes a string object and parse out the document structure\n",
    "# and turn it into a BeautifulSoup object.\n",
    "soup = bs(html, \"html.parser\")\n",
    "soup"
   ]
  },
  {
   "cell_type": "code",
   "execution_count": null,
   "id": "metropolitan-database",
   "metadata": {},
   "outputs": [],
   "source": [
    "print(soup.prettify())"
   ]
  },
  {
   "cell_type": "markdown",
   "id": "piano-thickness",
   "metadata": {},
   "source": [
    "Some notes on terminology:\n",
    "<br> <br>\n",
    "You will notice that the html is broken into sections like \\<title>Quotes to Scrape\\</title> or \\<p>\\<a href=\"/login\">Login\\</a>\\</p>\n",
    "<br> These are called tags. In the examples above, we have a \"title\" tag and an \"a\" tag inside a \"p\" tag. <br><br>\n",
    "Sometimes the tag will have attributes, which are listed after the tag name but within the <>. Example: the \"a\" tag has an \"href\" attribute.\n",
    "<br><br> The part between > < can be another tag or text. (There could be other things, like images, but for this we will only be dealing with the text part of html.)"
   ]
  },
  {
   "cell_type": "markdown",
   "id": "played-procedure",
   "metadata": {},
   "source": [
    "### Parsing the soup"
   ]
  },
  {
   "cell_type": "markdown",
   "id": "suited-heritage",
   "metadata": {},
   "source": [
    "The most useful function for finding what you want is soup.find_all()"
   ]
  },
  {
   "cell_type": "code",
   "execution_count": null,
   "id": "assisted-disease",
   "metadata": {
    "scrolled": true
   },
   "outputs": [],
   "source": [
    "#Let's get the quotes\n",
    "soup.find_all(\"\") # Makes a list of all the noted tags."
   ]
  },
  {
   "cell_type": "code",
   "execution_count": null,
   "id": "rental-cursor",
   "metadata": {},
   "outputs": [],
   "source": [
    "# Let's narrow down our search\n",
    "soup.find_all(\"\",class_=\"\")"
   ]
  },
  {
   "cell_type": "code",
   "execution_count": null,
   "id": "brown-trout",
   "metadata": {},
   "outputs": [],
   "source": [
    "# There is also soup.find()\n",
    "soup.find(\"\") #This gives the first instance of the tag."
   ]
  },
  {
   "cell_type": "code",
   "execution_count": null,
   "id": "apart-horizontal",
   "metadata": {},
   "outputs": [],
   "source": [
    "# Another useful function is tag.get_text()\n",
    "for quote in soup.find_all(\"\",class_=\"\"):\n",
    "    print(quote.get_text())\n",
    "    print(\"------\")"
   ]
  },
  {
   "cell_type": "code",
   "execution_count": null,
   "id": "retained-digit",
   "metadata": {},
   "outputs": [],
   "source": [
    "# How would we get the authors?\n",
    "# Try your own code here"
   ]
  },
  {
   "cell_type": "code",
   "execution_count": null,
   "id": "general-phrase",
   "metadata": {},
   "outputs": [],
   "source": [
    "# What about the tags?"
   ]
  }
 ],
 "metadata": {
  "kernelspec": {
   "display_name": "Python 3",
   "language": "python",
   "name": "python3"
  },
  "language_info": {
   "codemirror_mode": {
    "name": "ipython",
    "version": 3
   },
   "file_extension": ".py",
   "mimetype": "text/x-python",
   "name": "python",
   "nbconvert_exporter": "python",
   "pygments_lexer": "ipython3",
   "version": "3.8.5"
  }
 },
 "nbformat": 4,
 "nbformat_minor": 5
}
