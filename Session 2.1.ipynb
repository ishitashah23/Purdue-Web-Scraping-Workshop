{
 "cells": [
  {
   "cell_type": "markdown",
   "id": "frank-conversion",
   "metadata": {},
   "source": [
    "### A new approach"
   ]
  },
  {
   "cell_type": "code",
   "execution_count": null,
   "id": "bronze-substance",
   "metadata": {},
   "outputs": [],
   "source": [
    "import urllib.request"
   ]
  },
  {
   "cell_type": "code",
   "execution_count": null,
   "id": "tight-upgrade",
   "metadata": {},
   "outputs": [],
   "source": [
    "html = urllib.request.urlopen(\"https://www.indiana-demographics.com/cities_by_population\").read().decode('utf-8')"
   ]
  },
  {
   "cell_type": "markdown",
   "id": "deadly-programming",
   "metadata": {},
   "source": [
    "Everything starts out the same. Even getting html2."
   ]
  },
  {
   "cell_type": "code",
   "execution_count": null,
   "id": "close-psychiatry",
   "metadata": {},
   "outputs": [],
   "source": [
    "index = html.find('<table class=\"ranklist \">')\n",
    "html2 = html[index:]\n",
    "html2 # Not using print so we can see the new lines."
   ]
  },
  {
   "cell_type": "markdown",
   "id": "exempt-launch",
   "metadata": {},
   "source": [
    "Another way to parse a string is to use split."
   ]
  },
  {
   "cell_type": "code",
   "execution_count": null,
   "id": "bored-price",
   "metadata": {},
   "outputs": [],
   "source": [
    "split = html2.split(\"\")\n",
    "len(split)"
   ]
  },
  {
   "cell_type": "code",
   "execution_count": null,
   "id": "advisory-spine",
   "metadata": {},
   "outputs": [],
   "source": [
    "# Let's see how this worked\n",
    "for i in range(0,150):\n",
    "    display(split[i]) # display works the same as having the object at the end of the cell.\n",
    "    print(\"-----\") # To better see the splits"
   ]
  },
  {
   "cell_type": "code",
   "execution_count": null,
   "id": "intelligent-replication",
   "metadata": {},
   "outputs": [],
   "source": [
    "# Cities\n",
    "i=150 # So we can easily change the index\n",
    "cityStart = split[i].find('-demographics\">')\n",
    "cityStop = split[i].find('</a>')\n",
    "split[i][cityStart+15:cityStop]"
   ]
  },
  {
   "cell_type": "code",
   "execution_count": null,
   "id": "fewer-cookbook",
   "metadata": {},
   "outputs": [],
   "source": [
    "# Populations\n",
    "i=1\n",
    "cityStop = split[i].find('</a>')\n",
    "hold=split[i][cityStop:]\n",
    "popStart=hold.find(\"<td>\")\n",
    "popStop=hold.find(\"\\n\\n      </td>\\n    </tr>\")\n",
    "hold[popStart+13:popStop] "
   ]
  },
  {
   "cell_type": "markdown",
   "id": "popular-privacy",
   "metadata": {},
   "source": [
    "Now for the other cities."
   ]
  },
  {
   "cell_type": "code",
   "execution_count": null,
   "id": "negative-unknown",
   "metadata": {},
   "outputs": [],
   "source": [
    "i=101\n",
    "split[i]"
   ]
  },
  {
   "cell_type": "code",
   "execution_count": null,
   "id": "cathedral-session",
   "metadata": {},
   "outputs": [],
   "source": [
    "# What about a split within a split?\n",
    "i=101\n",
    "split[i].split(\"</td>\")"
   ]
  },
  {
   "cell_type": "code",
   "execution_count": null,
   "id": "informal-julian",
   "metadata": {},
   "outputs": [],
   "source": [
    "i=101\n",
    "hold = split[i].split(\"</td>\")\n",
    "cityStart = hold[1].find(\"<td>\\n          \")+len(\"<td>\\n          \")\n",
    "cityStop = hold[1].rfind(\"\\n\")\n",
    "hold[1][cityStart:cityStop]"
   ]
  },
  {
   "cell_type": "code",
   "execution_count": null,
   "id": "selected-electric",
   "metadata": {},
   "outputs": [],
   "source": [
    "i=101\n",
    "hold = split[i].split(\"</td>\")\n",
    "popStart = hold[2].find(\"<td>\")+len(\"<td>\\n        \")\n",
    "popStop = hold[2].find(\"\\n\\n\")\n",
    "hold[2][popStart:popStop]"
   ]
  },
  {
   "cell_type": "code",
   "execution_count": null,
   "id": "impaired-telephone",
   "metadata": {},
   "outputs": [],
   "source": [
    "for i in range(1,len(split)):\n",
    "    if split[i].find('-demographics\">')>-1:\n",
    "        cityStart = split[i].find('-demographics\">')\n",
    "        cityStop = split[i].find('</a>')\n",
    "        city = split[i][cityStart+15:cityStop]\n",
    "        \n",
    "        hold=split[i][cityStop:]\n",
    "        popStart=hold.find(\"<td>\")\n",
    "        popStop=hold.find(\"\\n\\n      </td>\\n    </tr>\")\n",
    "        pop = hold[popStart+13:popStop]  \n",
    "    else:\n",
    "        hold = split[i].split(\"</td>\")\n",
    "        cityStart = hold[1].find(\"<td>\\n          \")+len(\"<td>\\n          \")\n",
    "        cityStop = hold[1].rfind(\"\\n\")\n",
    "        city = hold[1][cityStart:cityStop]\n",
    "        popStart = hold[2].find(\"<td>\")+len(\"<td>\\n        \")\n",
    "        popStop = hold[2].find(\"\\n\\n\")\n",
    "        pop=hold[2][popStart:popStop]\n",
    "    print(city)\n",
    "    print(pop)"
   ]
  },
  {
   "cell_type": "markdown",
   "id": "plastic-warner",
   "metadata": {},
   "source": [
    "When starting out, it might help you to use string manipulation to parse html as it will familiarize you with html structure."
   ]
  },
  {
   "cell_type": "code",
   "execution_count": null,
   "id": "requested-dispatch",
   "metadata": {},
   "outputs": [],
   "source": []
  }
 ],
 "metadata": {
  "kernelspec": {
   "display_name": "Python 3",
   "language": "python",
   "name": "python3"
  },
  "language_info": {
   "codemirror_mode": {
    "name": "ipython",
    "version": 3
   },
   "file_extension": ".py",
   "mimetype": "text/x-python",
   "name": "python",
   "nbconvert_exporter": "python",
   "pygments_lexer": "ipython3",
   "version": "3.8.5"
  }
 },
 "nbformat": 4,
 "nbformat_minor": 5
}
