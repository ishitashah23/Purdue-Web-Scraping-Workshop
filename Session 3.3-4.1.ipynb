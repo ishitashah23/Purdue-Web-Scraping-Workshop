{
 "cells": [
  {
   "cell_type": "markdown",
   "id": "strategic-announcement",
   "metadata": {},
   "source": [
    "The website we will be using for this part is https://www.getcompanyinfo.com/industry/information-technology-services/"
   ]
  },
  {
   "cell_type": "code",
   "execution_count": null,
   "id": "objective-volunteer",
   "metadata": {},
   "outputs": [],
   "source": [
    "import pandas as pd\n",
    "from bs4 import BeautifulSoup as bs\n",
    "import urllib.request\n",
    "import time\n",
    "import random\n",
    "import re"
   ]
  },
  {
   "cell_type": "code",
   "execution_count": null,
   "id": "boring-floating",
   "metadata": {},
   "outputs": [],
   "source": [
    "url = \"https://www.getcompanyinfo.com/industry/information-technology-services/\"\n",
    "html = urllib.request.urlopen(url).read().decode('utf-8')\n",
    "soup = bs(html)"
   ]
  },
  {
   "cell_type": "code",
   "execution_count": null,
   "id": "spiritual-smoke",
   "metadata": {},
   "outputs": [],
   "source": [
    "soup"
   ]
  },
  {
   "cell_type": "markdown",
   "id": "statistical-suite",
   "metadata": {},
   "source": [
    "First we want to be able to get the company name and the link to the company information."
   ]
  },
  {
   "cell_type": "code",
   "execution_count": null,
   "id": "foreign-humor",
   "metadata": {},
   "outputs": [],
   "source": [
    "soup.find_all()"
   ]
  },
  {
   "cell_type": "code",
   "execution_count": null,
   "id": "relevant-browse",
   "metadata": {},
   "outputs": [],
   "source": [
    "for a in soup.find_all():\n",
    "    print()\n",
    "    print()\n",
    "    print(\"----\")"
   ]
  },
  {
   "cell_type": "markdown",
   "id": "aggressive-taste",
   "metadata": {},
   "source": [
    "When we click onto a specific company, it turns out that the url base that we want to use is only \"https://www.getcompanyinfo.com\", not \"https://www.getcompanyinfo.com/industry/information-technology-services/\""
   ]
  },
  {
   "cell_type": "code",
   "execution_count": null,
   "id": "responsible-sherman",
   "metadata": {},
   "outputs": [],
   "source": [
    "Companies = []\n",
    "Links = []\n",
    "print(Companies)\n",
    "print(Links)"
   ]
  },
  {
   "cell_type": "code",
   "execution_count": null,
   "id": "seasonal-benjamin",
   "metadata": {},
   "outputs": [],
   "source": [
    "url_base = \"https://www.getcompanyinfo.com\"\n",
    "n=0\n",
    "html2 = urllib.request.urlopen(url_base+Links[n]).read().decode('utf-8')\n",
    "soup2 = bs(html2)"
   ]
  },
  {
   "cell_type": "code",
   "execution_count": null,
   "id": "desperate-application",
   "metadata": {},
   "outputs": [],
   "source": [
    "soup2"
   ]
  },
  {
   "cell_type": "code",
   "execution_count": null,
   "id": "several-shower",
   "metadata": {},
   "outputs": [],
   "source": [
    "# Get the company type\n"
   ]
  },
  {
   "cell_type": "code",
   "execution_count": null,
   "id": "inappropriate-taste",
   "metadata": {},
   "outputs": [],
   "source": [
    "# Get the industry\n"
   ]
  },
  {
   "cell_type": "code",
   "execution_count": null,
   "id": "fossil-cyprus",
   "metadata": {},
   "outputs": [],
   "source": [
    "# Get when it was founded\n"
   ]
  },
  {
   "cell_type": "code",
   "execution_count": null,
   "id": "extraordinary-relevance",
   "metadata": {},
   "outputs": [],
   "source": [
    "# Get the country\n"
   ]
  },
  {
   "cell_type": "code",
   "execution_count": null,
   "id": "specific-spanking",
   "metadata": {},
   "outputs": [],
   "source": [
    "# Get the headquarters city and state/providence if applicable\n"
   ]
  },
  {
   "cell_type": "code",
   "execution_count": null,
   "id": "filled-screening",
   "metadata": {},
   "outputs": [],
   "source": [
    "# Get the phone number\n"
   ]
  },
  {
   "cell_type": "code",
   "execution_count": null,
   "id": "respected-emergency",
   "metadata": {},
   "outputs": [],
   "source": [
    "# Get the email\n"
   ]
  },
  {
   "cell_type": "code",
   "execution_count": null,
   "id": "guilty-boxing",
   "metadata": {},
   "outputs": [],
   "source": [
    "# Get the website\n"
   ]
  },
  {
   "cell_type": "code",
   "execution_count": null,
   "id": "complicated-error",
   "metadata": {},
   "outputs": [],
   "source": [
    "# Get the number of employees\n"
   ]
  },
  {
   "cell_type": "code",
   "execution_count": null,
   "id": "particular-nicaragua",
   "metadata": {},
   "outputs": [],
   "source": []
  }
 ],
 "metadata": {
  "kernelspec": {
   "display_name": "Python 3",
   "language": "python",
   "name": "python3"
  },
  "language_info": {
   "codemirror_mode": {
    "name": "ipython",
    "version": 3
   },
   "file_extension": ".py",
   "mimetype": "text/x-python",
   "name": "python",
   "nbconvert_exporter": "python",
   "pygments_lexer": "ipython3",
   "version": "3.8.5"
  }
 },
 "nbformat": 4,
 "nbformat_minor": 5
}
