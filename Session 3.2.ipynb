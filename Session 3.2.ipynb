{
 "cells": [
  {
   "cell_type": "markdown",
   "id": "agricultural-spine",
   "metadata": {},
   "source": [
    "### Next please"
   ]
  },
  {
   "cell_type": "code",
   "execution_count": null,
   "id": "isolated-evening",
   "metadata": {},
   "outputs": [],
   "source": [
    "from bs4 import BeautifulSoup as bs\n",
    "import urllib.request\n",
    "import pandas as pd\n",
    "import re"
   ]
  },
  {
   "cell_type": "code",
   "execution_count": null,
   "id": "civil-gateway",
   "metadata": {},
   "outputs": [],
   "source": [
    "html = urllib.request.urlopen(\"https://quotes.toscrape.com/\").read().decode('utf-8')\n",
    "soup = bs(html, \"html.parser\")"
   ]
  },
  {
   "cell_type": "code",
   "execution_count": null,
   "id": "fifteen-abuse",
   "metadata": {},
   "outputs": [],
   "source": [
    "# Copied from Session 3.1\n",
    "quotes = []\n",
    "authors = []\n",
    "tags = []\n",
    "\n",
    "for div in soup.find_all(\"div\",class_=\"quote\"):\n",
    "    text = div.find(itemprop = \"text\").get_text()\n",
    "    author = div.find(itemprop = \"author\").get_text()\n",
    "    a_s = div.find(\"div\").findChildren(\"a\")\n",
    "    for i in range(len(a_s)):\n",
    "        a_s[i]=a_s[i].get_text()\n",
    "    quotes.append(text)\n",
    "    authors.append(author)\n",
    "    tags.append(\"|\".join(a_s))"
   ]
  },
  {
   "cell_type": "markdown",
   "id": "velvet-karma",
   "metadata": {},
   "source": [
    "Now we need to navigate to the next page."
   ]
  },
  {
   "cell_type": "code",
   "execution_count": null,
   "id": "satellite-reliance",
   "metadata": {},
   "outputs": [],
   "source": [
    "html = urllib.request.urlopen(\"https://quotes.toscrape.com/page/2/\").read().decode('utf-8')\n",
    "soup = bs(html, \"html.parser\")\n",
    "print(soup.prettify())"
   ]
  },
  {
   "cell_type": "code",
   "execution_count": null,
   "id": "arbitrary-mother",
   "metadata": {},
   "outputs": [],
   "source": [
    "print(soup.find(text=\"\"))"
   ]
  },
  {
   "cell_type": "code",
   "execution_count": null,
   "id": "based-curtis",
   "metadata": {},
   "outputs": [],
   "source": [
    "html = urllib.request.urlopen(\"https://quotes.toscrape.com/page/30/\").read().decode('utf-8')\n",
    "soup = bs(html, \"html.parser\")\n",
    "print(soup.find(text=\"\"))"
   ]
  },
  {
   "cell_type": "code",
   "execution_count": null,
   "id": "continuing-voltage",
   "metadata": {},
   "outputs": [],
   "source": [
    "quotes = []\n",
    "authors = []\n",
    "tags = []\n",
    "\n",
    "# Put code to get all the quotes on all the pages"
   ]
  },
  {
   "cell_type": "code",
   "execution_count": null,
   "id": "boxed-above",
   "metadata": {},
   "outputs": [],
   "source": [
    "authors"
   ]
  },
  {
   "cell_type": "code",
   "execution_count": null,
   "id": "selective-assembly",
   "metadata": {},
   "outputs": [],
   "source": [
    "# Store the information in a data frame\n",
    "df = pd.DataFrame({\"Quote\":quotes,\"Author\":authors,\"Tags\":tags})\n",
    "df"
   ]
  },
  {
   "cell_type": "code",
   "execution_count": null,
   "id": "blessed-internet",
   "metadata": {},
   "outputs": [],
   "source": [
    "df.to_csv(\"Scraped_Quotes.csv\",index = False) # Save the data"
   ]
  },
  {
   "cell_type": "markdown",
   "id": "broadband-sheep",
   "metadata": {},
   "source": [
    "Let's try another way to get the next button."
   ]
  },
  {
   "cell_type": "code",
   "execution_count": null,
   "id": "tested-romania",
   "metadata": {},
   "outputs": [],
   "source": [
    "soup.find_all(\"li\",class_=\"next\")"
   ]
  },
  {
   "cell_type": "code",
   "execution_count": null,
   "id": "hazardous-emerald",
   "metadata": {},
   "outputs": [],
   "source": [
    "href = soup.find(\"li\",class_=\"next\").find(\"a\")[\"href\"]\n",
    "print(href)"
   ]
  },
  {
   "cell_type": "code",
   "execution_count": null,
   "id": "wrong-level",
   "metadata": {},
   "outputs": [],
   "source": [
    "html = urllib.request.urlopen(\"https://quotes.toscrape.com/page/30/\").read().decode('utf-8')\n",
    "soup = bs(html, \"html.parser\")\n",
    "href = soup.find(\"li\",class_=\"next\").find(\"a\")[\"href\"]\n",
    "print(href)"
   ]
  },
  {
   "cell_type": "code",
   "execution_count": null,
   "id": "federal-bookmark",
   "metadata": {},
   "outputs": [],
   "source": [
    "## Let's try it\n",
    "    "
   ]
  },
  {
   "cell_type": "code",
   "execution_count": null,
   "id": "located-perfume",
   "metadata": {},
   "outputs": [],
   "source": []
  }
 ],
 "metadata": {
  "kernelspec": {
   "display_name": "Python 3",
   "language": "python",
   "name": "python3"
  },
  "language_info": {
   "codemirror_mode": {
    "name": "ipython",
    "version": 3
   },
   "file_extension": ".py",
   "mimetype": "text/x-python",
   "name": "python",
   "nbconvert_exporter": "python",
   "pygments_lexer": "ipython3",
   "version": "3.8.5"
  }
 },
 "nbformat": 4,
 "nbformat_minor": 5
}
