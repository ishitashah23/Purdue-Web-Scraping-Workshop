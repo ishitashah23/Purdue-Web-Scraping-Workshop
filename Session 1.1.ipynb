{
 "cells": [
  {
   "cell_type": "markdown",
   "id": "dressed-reasoning",
   "metadata": {},
   "source": [
    "### Introduction"
   ]
  },
  {
   "cell_type": "markdown",
   "id": "median-punch",
   "metadata": {},
   "source": [
    "Web Scraping - An automatic way to retrieve unstructured or semi-structured data from a website and store them in a structured format."
   ]
  },
  {
   "cell_type": "markdown",
   "id": "caroline-distribution",
   "metadata": {},
   "source": [
    "#### Challenges\n",
    "It is more complex than other ways of getting data. APIs<br>\n",
    "It may be fragile - Frequently changing web designs<br>\n",
    "Ethical and legal risks<br>\n",
    "Reality - Website designs are getting better. Are you a robot?"
   ]
  },
  {
   "cell_type": "markdown",
   "id": "quarterly-building",
   "metadata": {},
   "source": [
    "#### Benefits\n",
    "Can be run iteratively over many web pages <br>\n",
    "&ensp; Some websites have thousand or millions of pages <br>\n",
    "Can construct large, robust data sets out of otherwise messy text that would only appear in your web browser."
   ]
  },
  {
   "cell_type": "markdown",
   "id": "appropriate-nursery",
   "metadata": {},
   "source": [
    "#### What can you scrape?\n",
    "A lot<br><br>\n",
    "Some websites have taken measures to prevent or hinder scraping.<br>\n",
    "Even if it is a public site, they don't want you overloading their servers.<br>\n",
    "Check the terms of service.<br>\n",
    "On a small scale you might be blocked from the site.<br>\n",
    "On a large scale (for a company) check with a legal team."
   ]
  },
  {
   "cell_type": "markdown",
   "id": "reverse-shoot",
   "metadata": {},
   "source": [
    "#### Open Data on the Web\n",
    "<ul>\n",
    "  <li>Government and political data</li>\n",
    "  <li>Data aggregators</li>\n",
    "  <li>Social data</li>\n",
    "    <li>Weather data</li>\n",
    "    <li>Sports data</li>\n",
    "    <li>Universities and research</li>\n",
    "    <li>News data</li>\n",
    "</ul>\n",
    "Check out https://rockcontent.com/blog/data-sources/"
   ]
  },
  {
   "cell_type": "markdown",
   "id": "necessary-senior",
   "metadata": {},
   "source": [
    "#### Basic Process\n",
    "<ol>\n",
    "  <li>Finding the address - URL or URLs </li>\n",
    "  <li>Sending HTTP requests to the server</li>\n",
    "  <li>Parse the return</li>\n",
    "    <li>Store the results</li>\n",
    "</ol>"
   ]
  },
  {
   "cell_type": "markdown",
   "id": "bottom-tract",
   "metadata": {},
   "source": [
    "#### Important Steps\n",
    "<ul>\n",
    "  <li>Indentify the url patterns</li>\n",
    "  <li>Inspect the source code and locate data elements</li>\n",
    "  <li>Think about the logical flow of your crawler</li>\n",
    "    <li>Persistence and creativity is often required to collect valuable data</li>\n",
    "</ul>"
   ]
  },
  {
   "cell_type": "markdown",
   "id": "focal-machinery",
   "metadata": {},
   "source": [
    "#### What I will show you\n",
    "<ul>\n",
    "  <li>Techniques for identifing url patterns</li>\n",
    "  <li>How to inspect html in a browser</li>\n",
    "  <li>How to request html with Python</li>\n",
    "    <li>Techniques for finding the data</li>\n",
    "    <li>Techniques for parsing html</li>\n",
    "    <li>BeautifulSoup</li>\n",
    "</ul>"
   ]
  },
  {
   "cell_type": "markdown",
   "id": "human-times",
   "metadata": {},
   "source": [
    "Let's check out https://purdue.edu/"
   ]
  },
  {
   "cell_type": "code",
   "execution_count": null,
   "id": "desperate-medline",
   "metadata": {},
   "outputs": [],
   "source": []
  }
 ],
 "metadata": {
  "kernelspec": {
   "display_name": "Python 3",
   "language": "python",
   "name": "python3"
  },
  "language_info": {
   "codemirror_mode": {
    "name": "ipython",
    "version": 3
   },
   "file_extension": ".py",
   "mimetype": "text/x-python",
   "name": "python",
   "nbconvert_exporter": "python",
   "pygments_lexer": "ipython3",
   "version": "3.8.5"
  }
 },
 "nbformat": 4,
 "nbformat_minor": 5
}
