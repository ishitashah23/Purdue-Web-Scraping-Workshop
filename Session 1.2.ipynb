{
 "cells": [
  {
   "cell_type": "markdown",
   "id": "smooth-ownership",
   "metadata": {},
   "source": [
    "### The basics\n",
    "In this code we will be using a library to get the html into a Python object. After that we will only use basic Python to parse what we find.<br>\n",
    "The website we will use in this code is https://www.indiana-demographics.com/cities_by_population"
   ]
  },
  {
   "cell_type": "code",
   "execution_count": null,
   "id": "american-greeting",
   "metadata": {},
   "outputs": [],
   "source": [
    "# The library used to get the html into Python\n",
    "import urllib.request"
   ]
  },
  {
   "cell_type": "code",
   "execution_count": null,
   "id": "posted-cherry",
   "metadata": {},
   "outputs": [],
   "source": [
    "# urlopen takes the url in string format and returns an object with the \n",
    "# information we want.\n",
    "# read turns the returned html into a string and decode makes sure that you\n",
    "# can read the string.\n",
    "html = urllib.request.urlopen(\"https://www.indiana-demographics.com/cities_by_population\").read().decode('utf-8')"
   ]
  },
  {
   "cell_type": "markdown",
   "id": "plastic-lounge",
   "metadata": {},
   "source": [
    "When making the request you must use the entire url, including \"https://\"."
   ]
  },
  {
   "cell_type": "code",
   "execution_count": null,
   "id": "alien-morrison",
   "metadata": {},
   "outputs": [],
   "source": [
    "# If you don't use print(), then the format of the html will be one long line\n",
    "html\n",
    "# Use the following to see the difference\n",
    "#print(html)"
   ]
  },
  {
   "cell_type": "markdown",
   "id": "moral-celtic",
   "metadata": {},
   "source": [
    "Obviously some websites want to prevent you from scraping their data. One of the ways to do this is to require you to have a browser."
   ]
  },
  {
   "cell_type": "code",
   "execution_count": null,
   "id": "fifth-restoration",
   "metadata": {},
   "outputs": [],
   "source": [
    "from urllib.request import FancyURLopener  # This is library that helps us create the headless browser\n",
    "from random import choice #This library helps pick a random item from a list\n",
    "\n",
    "user_agents = [\n",
    "    'Mozilla/5.0 (Windows NT 6.1) AppleWebKit/537.36 (KHTML, like Gecko) Chrome/41.0.2228.0 Safari/537.36',\n",
    "    'Opera/9.80 (X11; Linux i686; Ubuntu/14.10) Presto/2.12.388 Version/12.16',\n",
    "    'Mozilla/5.0 (Windows; U; Windows NT 6.1; rv:2.2) Gecko/20110201',\n",
    "    'Mozilla/5.0 (Macintosh; Intel Mac OS X 10_9_3) AppleWebKit/537.75.14 (KHTML, like Gecko) Version/7.0.3 Safari/7046A194A',\n",
    "    'Mozilla/5.0 (Windows NT 10.0; Win64; x64) AppleWebKit/537.36 (KHTML, like Gecko) Chrome/42.0.2311.135 Safari/537.36 Edge/12.246'\n",
    "]\n",
    "\n",
    "class MyOpener(FancyURLopener, object):\n",
    "    version = choice(user_agents)\n",
    "\n",
    "myopener = MyOpener()\n",
    "page=myopener.open(\"https://www.indiana-demographics.com/cities_by_population\")\n",
    "\n",
    "html = page.read().decode('utf-8')"
   ]
  },
  {
   "cell_type": "code",
   "execution_count": null,
   "id": "russian-least",
   "metadata": {},
   "outputs": [],
   "source": [
    "print(html)"
   ]
  },
  {
   "cell_type": "markdown",
   "id": "stone-bulletin",
   "metadata": {},
   "source": [
    "We want to get all the cities and their populations. To do this we need to find an indentifier of where the table starts.<br>\n",
    "It is also important that this is the first time that the indentifier shows in the html."
   ]
  },
  {
   "cell_type": "code",
   "execution_count": null,
   "id": "bizarre-study",
   "metadata": {},
   "outputs": [],
   "source": [
    "html.find('')"
   ]
  },
  {
   "cell_type": "code",
   "execution_count": null,
   "id": "rural-stockholm",
   "metadata": {},
   "outputs": [],
   "source": [
    "index = html.find('')\n",
    "html2 = html[index:] #This cuts off the html so that it starts where the table we want is."
   ]
  },
  {
   "cell_type": "code",
   "execution_count": null,
   "id": "improved-genius",
   "metadata": {},
   "outputs": [],
   "source": [
    "print(html2)"
   ]
  },
  {
   "cell_type": "markdown",
   "id": "textile-precipitation",
   "metadata": {},
   "source": [
    "Now we need to know what indicates the start of the ciry name. We cannot use anything that has to do with Indianapolis as that defeats the purpose."
   ]
  },
  {
   "cell_type": "code",
   "execution_count": null,
   "id": "forty-comedy",
   "metadata": {},
   "outputs": [],
   "source": [
    "html2.find('')"
   ]
  },
  {
   "cell_type": "code",
   "execution_count": null,
   "id": "tutorial-london",
   "metadata": {},
   "outputs": [],
   "source": [
    "cityStart = html2.find('')\n",
    "cityStop = html2.find('')\n",
    "print(html2[cityStart+len(''):cityStop])\n",
    "# find gives the index of the start of the string.\n",
    "# In order to get to Indianapolis we need to add len('') to cityStart\n",
    "# cityStop does not have this problem."
   ]
  },
  {
   "cell_type": "code",
   "execution_count": null,
   "id": "empirical-cruise",
   "metadata": {},
   "outputs": [],
   "source": [
    "html3=html2[cityStop:] #This gives us a new html that does not have the information we just got.\n",
    "html3"
   ]
  },
  {
   "cell_type": "markdown",
   "id": "lonely-large",
   "metadata": {},
   "source": [
    "Now we do the same thing for the population."
   ]
  },
  {
   "cell_type": "code",
   "execution_count": null,
   "id": "piano-teaching",
   "metadata": {},
   "outputs": [],
   "source": [
    "popStart=html3.find(\"\")\n",
    "popStop=html3.find(\"\")\n",
    "html3[popStart+len(\"\"):popStop]"
   ]
  },
  {
   "cell_type": "code",
   "execution_count": null,
   "id": "australian-printing",
   "metadata": {},
   "outputs": [],
   "source": [
    "html4=html3[popStop:]\n",
    "html4"
   ]
  },
  {
   "cell_type": "code",
   "execution_count": null,
   "id": "essential-lesson",
   "metadata": {},
   "outputs": [],
   "source": [
    "# Will the same parsing work for Fort Wayne?\n"
   ]
  },
  {
   "cell_type": "code",
   "execution_count": null,
   "id": "simple-definition",
   "metadata": {},
   "outputs": [],
   "source": [
    "# Let's try to get all of the cities and populations\n"
   ]
  },
  {
   "cell_type": "code",
   "execution_count": null,
   "id": "rural-shore",
   "metadata": {},
   "outputs": [],
   "source": []
  }
 ],
 "metadata": {
  "kernelspec": {
   "display_name": "Python 3",
   "language": "python",
   "name": "python3"
  },
  "language_info": {
   "codemirror_mode": {
    "name": "ipython",
    "version": 3
   },
   "file_extension": ".py",
   "mimetype": "text/x-python",
   "name": "python",
   "nbconvert_exporter": "python",
   "pygments_lexer": "ipython3",
   "version": "3.8.5"
  }
 },
 "nbformat": 4,
 "nbformat_minor": 5
}
