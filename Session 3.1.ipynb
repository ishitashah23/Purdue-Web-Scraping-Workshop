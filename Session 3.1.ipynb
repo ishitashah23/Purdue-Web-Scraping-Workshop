{
 "cells": [
  {
   "cell_type": "markdown",
   "id": "accessory-ballet",
   "metadata": {},
   "source": [
    "### Getting the data\n",
    "Now let's try to get all of the quotes, authors, and tags in one loop. Then we can put it into a csv.<br>Note that there are many ways to parse the soup. I encourage you to try different approaches and see what works."
   ]
  },
  {
   "cell_type": "code",
   "execution_count": null,
   "id": "technological-atmosphere",
   "metadata": {},
   "outputs": [],
   "source": [
    "from bs4 import BeautifulSoup as bs\n",
    "import urllib.request\n",
    "import pandas as pd"
   ]
  },
  {
   "cell_type": "code",
   "execution_count": null,
   "id": "colonial-service",
   "metadata": {},
   "outputs": [],
   "source": [
    "html = urllib.request.urlopen(\"https://quotes.toscrape.com/\").read().decode('utf-8')\n",
    "soup = bs(html, \"html.parser\")"
   ]
  },
  {
   "cell_type": "code",
   "execution_count": null,
   "id": "handy-animal",
   "metadata": {},
   "outputs": [],
   "source": [
    "div = soup.find_all(\"div\",class_=\"quote\")\n",
    "print(len(div))\n",
    "print(div[0].prettify())"
   ]
  },
  {
   "cell_type": "markdown",
   "id": "altered-tennis",
   "metadata": {},
   "source": [
    "##### A short intermission about other functions"
   ]
  },
  {
   "cell_type": "code",
   "execution_count": null,
   "id": "outdoor-programming",
   "metadata": {},
   "outputs": [],
   "source": [
    "# Let's learn some new functions to navigate the tree.\n",
    "# tag.find_all() or tag.find() would work in this situation, but for learning\n",
    "# and demonstration purposes, we will avoid them for this part.\n",
    "for child in div[0].children:\n",
    "    print(child)"
   ]
  },
  {
   "cell_type": "code",
   "execution_count": null,
   "id": "going-privacy",
   "metadata": {},
   "outputs": [],
   "source": [
    "div[0].findChildren()"
   ]
  },
  {
   "cell_type": "code",
   "execution_count": null,
   "id": "incorporate-martial",
   "metadata": {},
   "outputs": [],
   "source": [
    "div[0].findChildren(class_=\"text\")"
   ]
  },
  {
   "cell_type": "markdown",
   "id": "driving-craft",
   "metadata": {},
   "source": [
    "You can also find parents and siblings of tags."
   ]
  },
  {
   "cell_type": "code",
   "execution_count": null,
   "id": "brutal-ambassador",
   "metadata": {},
   "outputs": [],
   "source": [
    "# I want the author who talks about Harry.\n",
    "import re\n",
    "quote = soup.find(text=re.compile(\"Harry\"))\n",
    "print(quote)"
   ]
  },
  {
   "cell_type": "code",
   "execution_count": null,
   "id": "arabic-namibia",
   "metadata": {},
   "outputs": [],
   "source": [
    "parent = quote.parent\n",
    "print(parent)"
   ]
  },
  {
   "cell_type": "code",
   "execution_count": null,
   "id": "chinese-questionnaire",
   "metadata": {},
   "outputs": [],
   "source": [
    "next_sibling = parent.find_next_sibling()\n",
    "print(next_sibling)"
   ]
  },
  {
   "cell_type": "code",
   "execution_count": null,
   "id": "controlling-porcelain",
   "metadata": {},
   "outputs": [],
   "source": [
    "all_siblings = parent.find_next_siblings()\n",
    "print(all_siblings)"
   ]
  },
  {
   "cell_type": "code",
   "execution_count": null,
   "id": "polished-language",
   "metadata": {},
   "outputs": [],
   "source": [
    "author = parent.find_next_sibling()\n",
    "print(author.get_text())"
   ]
  },
  {
   "cell_type": "code",
   "execution_count": null,
   "id": "exempt-liver",
   "metadata": {},
   "outputs": [],
   "source": [
    "# How do we just get J.K. Rowling?"
   ]
  },
  {
   "cell_type": "markdown",
   "id": "competent-aurora",
   "metadata": {},
   "source": [
    "##### Back to our regularly scheduled coding"
   ]
  },
  {
   "cell_type": "code",
   "execution_count": null,
   "id": "handed-house",
   "metadata": {},
   "outputs": [],
   "source": [
    "print(div[0].prettify())"
   ]
  },
  {
   "cell_type": "code",
   "execution_count": null,
   "id": "lovely-artwork",
   "metadata": {},
   "outputs": [],
   "source": [
    "# Now let's get all the quotes\n",
    "quotes = []\n",
    "authors = []\n",
    "tags = []\n",
    "\n",
    "for div in soup.find_all(\"div\",class_=\"quote\"):\n",
    "    ## Put parsing code here\n",
    "    quotes.append(text)\n",
    "    authors.append(author)\n",
    "    tags.append(tag)"
   ]
  },
  {
   "cell_type": "code",
   "execution_count": null,
   "id": "visible-actress",
   "metadata": {},
   "outputs": [],
   "source": [
    "quotes"
   ]
  },
  {
   "cell_type": "code",
   "execution_count": null,
   "id": "addressed-grill",
   "metadata": {},
   "outputs": [],
   "source": [
    "authors"
   ]
  },
  {
   "cell_type": "code",
   "execution_count": null,
   "id": "cellular-bacon",
   "metadata": {},
   "outputs": [],
   "source": [
    "tags"
   ]
  },
  {
   "cell_type": "code",
   "execution_count": null,
   "id": "found-schedule",
   "metadata": {},
   "outputs": [],
   "source": [
    "print(div.prettify())"
   ]
  },
  {
   "cell_type": "code",
   "execution_count": null,
   "id": "alert-playing",
   "metadata": {},
   "outputs": [],
   "source": []
  },
  {
   "cell_type": "code",
   "execution_count": null,
   "id": "preceding-smile",
   "metadata": {},
   "outputs": [],
   "source": []
  },
  {
   "cell_type": "code",
   "execution_count": null,
   "id": "ceramic-destiny",
   "metadata": {},
   "outputs": [],
   "source": [
    "# Now let's get all the quotes\n",
    "quotes = []\n",
    "authors = []\n",
    "tags = []\n",
    "\n",
    "for div in soup.find_all(\"div\",class_=\"quote\"):\n",
    "\n",
    "    quotes.append(text)\n",
    "    authors.append(author)\n",
    "    tags.append()"
   ]
  },
  {
   "cell_type": "code",
   "execution_count": null,
   "id": "attached-marriage",
   "metadata": {},
   "outputs": [],
   "source": [
    "tags"
   ]
  },
  {
   "cell_type": "code",
   "execution_count": null,
   "id": "healthy-projection",
   "metadata": {},
   "outputs": [],
   "source": []
  }
 ],
 "metadata": {
  "kernelspec": {
   "display_name": "Python 3",
   "language": "python",
   "name": "python3"
  },
  "language_info": {
   "codemirror_mode": {
    "name": "ipython",
    "version": 3
   },
   "file_extension": ".py",
   "mimetype": "text/x-python",
   "name": "python",
   "nbconvert_exporter": "python",
   "pygments_lexer": "ipython3",
   "version": "3.8.5"
  }
 },
 "nbformat": 4,
 "nbformat_minor": 5
}
